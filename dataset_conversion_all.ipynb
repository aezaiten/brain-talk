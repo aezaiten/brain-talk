{
 "cells": [
  {
   "cell_type": "code",
   "execution_count": 35,
   "metadata": {},
   "outputs": [],
   "source": [
    "%matplotlib inline\n",
    "\n",
    "import numpy\n",
    "import scipy.io.wavfile\n",
    "import scipy.signal as signal\n",
    "import matplotlib.pyplot as plt\n",
    "from matplotlib import cm\n",
    "import math\n",
    "import os\n",
    "from functools import reduce\n",
    "import glob\n",
    "import operator as op\n",
    "from PIL import Image\n",
    "\n",
    "wav_folder_path = os.path.abspath(\"../../Datasets/IEMOCAP_mono/{0}/sentences/wav/{1}/{2}.wav\")"
   ]
  },
  {
   "cell_type": "markdown",
   "metadata": {},
   "source": [
    "## Spectrogram converter class"
   ]
  },
  {
   "cell_type": "code",
   "execution_count": 2,
   "metadata": {},
   "outputs": [],
   "source": [
    "noise_factor = -1.75\n",
    "\n",
    "class SpectrogramConverter:\n",
    "    \n",
    "    def __init__(self, frame_size, frame_stride, fft_size):\n",
    "        self.frame_size = frame_size\n",
    "        self.frame_stride = frame_stride\n",
    "        self.fft_size = fft_size\n",
    "   \n",
    "    def butter_bandpass_filter(self, lowcut, highcut, order=1):\n",
    "        nyquist_frequency = 0.5 * self.sample_rate\n",
    "        low_frequency = lowcut / nyquist_frequency\n",
    "        high_frequency = highcut / nyquist_frequency\n",
    "        b, a = scipy.signal.butter(order, [low_frequency, high_frequency], btype='band')\n",
    "        filtered_signal = scipy.signal.lfilter(b, a, self.signal)\n",
    "        return filtered_signal\n",
    "    \n",
    "    def mel_to_hertz(self, mels):\n",
    "        return 700*(10**(mels/2595.0)-1)\n",
    "    \n",
    "    def hertz_to_mel(self, frequency):\n",
    "        return 2595 * numpy.log10((1 + frequency)/700.)\n",
    "    \n",
    "    def load_wav(self, wavfile_path):\n",
    "        self.sample_rate, self.signal = scipy.io.wavfile.read(wavfile_path)\n",
    "        \n",
    "    def pre_emphasis(self, emphasis=0.97):\n",
    "        self.signal = numpy.append(self.signal[0], self.signal[1:] - emphasis * self.signal[:-1])\n",
    "    \n",
    "    def windowing(self):\n",
    "        frame_length, frame_step = int(round(self.frame_size * self.sample_rate)), int(round(self.frame_stride * self.sample_rate))\n",
    "        signal_length = len(self.signal)\n",
    "        frame_amount = int(numpy.ceil(float(numpy.abs(signal_length - frame_length)) / frame_step))\n",
    "        \n",
    "        pad_signal_length = frame_amount * frame_step + frame_length\n",
    "        zero_padding = numpy.zeros((pad_signal_length - signal_length))\n",
    "        padded_signal = numpy.append(self.signal, zero_padding)\n",
    "        \n",
    "        indices = numpy.tile(numpy.arange(0, frame_length), (frame_amount, 1)) + numpy.tile(numpy.arange(0, frame_amount * frame_step, frame_step), (frame_length, 1)).T\n",
    "        signal_frames = padded_signal[indices.astype(numpy.int32, copy=False)]\n",
    "        \n",
    "        hamming_window = 0.54 - 0.46 * numpy.cos(2*numpy.pi * numpy.arange(frame_length) / (frame_length - 1))\n",
    "        self.framed_signal = signal_frames * numpy.hamming(frame_length)\n",
    "    \n",
    "    def fourier_transform(self):\n",
    "        fft_magnitude = numpy.abs(numpy.fft.rfft(self.framed_signal, self.fft_size)) # Calculate FFT magnitude\n",
    "        normalized = fft_magnitude / fft_magnitude.max() # Normalize to max 1\n",
    "        logarithmized = numpy.log10(normalized) # Take logarithm of the FFT\n",
    "        logarithmized[logarithmized < noise_factor] = noise_factor # Denoise the spectrogram\n",
    "        return logarithmized\n",
    "    \n",
    "    def power_spectrum(self):\n",
    "        self.spectrogram = ((1.0 / self.fft_size) * (self.spectrogram ** 2))\n",
    "    \n",
    "    def filter_banks(self, filter_amount):\n",
    "        minimum_frequency = 0\n",
    "        maximum_frequency = self.hertz_to_mel(self.sample_rate / 2)\n",
    "        mels = numpy.linspace(minimum_frequency, maximum_frequency, filter_amount + 2)\n",
    "        bins = numpy.floor((self.fft_size + 1) * self.mel_to_hertz(mels) / self.sample_rate)\n",
    "        \n",
    "        filter_banks = numpy.zeros([filter_amount, (self.fft_size // 2) + 1])\n",
    "        for m in range(0, filter_amount):\n",
    "            left_equation = int(bins[m])\n",
    "            center = int(bins[m+1])\n",
    "            right_equation = int(bins[m+2])\n",
    "            \n",
    "            for k in range(left_equation, center):\n",
    "                filter_banks[m, k] = (k - bins[m]) / (bins[m+1] - bins[m])\n",
    "            for k in range(center, right_equation):\n",
    "                filter_banks[m, k] = (bins[m+2] - k) / (bins[m+2] - bins[m+1])\n",
    "    \n",
    "        mel_filters = filter_banks.T / filter_banks.sum(axis=1)\n",
    "\n",
    "        filtered_spectrogram = numpy.transpose(mel_filters).dot(numpy.transpose(self.spectrogram))\n",
    "        filtered_spectrogram = numpy.where(filtered_spectrogram == 0, numpy.finfo(float).eps, filtered_spectrogram)\n",
    "        decibels = 20*numpy.log10(filtered_spectrogram)\n",
    "        self.mel_spectrogram = decibels - (numpy.mean(decibels, axis=0) + 1e-8)\n",
    "        return filtered_spectrogram"
   ]
  },
  {
   "cell_type": "code",
   "execution_count": 3,
   "metadata": {},
   "outputs": [],
   "source": [
    "def wavfile_generator(filepath):\n",
    "    for wavfile in open(filepath):\n",
    "        yield wavfile\n",
    "        \n",
    "def linear_pipeline(converter, wavfile):\n",
    "    converter.load_wav(wavfile)\n",
    "    converter.pre_emphasis()\n",
    "    converter.windowing()\n",
    "    spectrogram = converter.fourier_transform()\n",
    "    \n",
    "    return numpy.rot90(spectrogram)\n",
    "\n",
    "def pad_spectrogram(spectrogram):\n",
    "    spectrogram = numpy.hstack((spectrogram, numpy.full((spectrogram.shape[0], numpy.abs(300 - spectrogram.shape[1])), fill_value=noise_factor)))\n",
    "    return spectrogram\n",
    "\n",
    "def split_spectrogram(spectrogram, wavname):\n",
    "    spectrogram_amount = int(numpy.ceil(spectrogram.shape[1] / 300))\n",
    "    if spectrogram_amount == 1:\n",
    "        to_save = pad_spectrogram(spectrogram)\n",
    "        if (numpy.mean(to_save) > noise_factor+0.02):\n",
    "            save_spectrogram(to_save, wavname)\n",
    "        else:\n",
    "            spectrogram_amount -= 1\n",
    "    else :\n",
    "        for i in range(0, spectrogram_amount):\n",
    "            if i != spectrogram_amount - 1:\n",
    "                to_save = spectrogram[0:200, (i*300):((i+1)*300)]\n",
    "                save_spectrogram(to_save, wavname+'-'+str(i))\n",
    "            else:\n",
    "                to_save = pad_spectrogram(spectrogram[0:200, (i*300):])\n",
    "                if (numpy.mean(to_save) < noise_factor+0.02):\n",
    "                    spectrogram_amount -= 1\n",
    "                    break\n",
    "                save_spectrogram(to_save, wavname+'-'+str(i))\n",
    "    return spectrogram_amount\n",
    "            \n",
    "\n",
    "def save_spectrogram(spectrogram, spectrogram_name):\n",
    "    fig = plt.figure()\n",
    "    fig.set_size_inches((3, 2))\n",
    "    ax = plt.Axes(fig, [0., 0., 1., 1.])\n",
    "    ax.set_axis_off()\n",
    "    fig.add_axes(ax)\n",
    "    plt.set_cmap('gray')\n",
    "    ax.imshow(spectrogram, aspect='equal')\n",
    "    plt.savefig('spectrograms/' + spectrogram_name + '.png', dpi=100)\n",
    "    plt.close()"
   ]
  },
  {
   "cell_type": "markdown",
   "metadata": {},
   "source": [
    "## Convert the spectrograms - Linear pipeline"
   ]
  },
  {
   "cell_type": "code",
   "execution_count": 100,
   "metadata": {
    "scrolled": true
   },
   "outputs": [],
   "source": [
    "generator = wavfile_generator('sound_files.txt')\n",
    "label_file = open('label_counts.txt', 'w')\n",
    "\n",
    "for wavfile in generator:\n",
    "    converter = SpectrogramConverter(frame_size=0.02, frame_stride=0.01, fft_size=400)\n",
    "    session_number = wavfile.split(' ')[0]\n",
    "    emotion_label = wavfile.split(' ')[2][:-1]\n",
    "    session_gender = '_'.join(wavfile.split(' ')[1].split('_')[0:-1])\n",
    "    wav_file = wavfile.split(' ')[1]\n",
    "    final_path = wav_folder_path.format(session_number, session_gender, wav_file)\n",
    "\n",
    "    spectrogram = linear_pipeline(converter, final_path)\n",
    "    label_amount = split_spectrogram(spectrogram, wav_file)\n",
    "    if (label_amount > 0):\n",
    "        label_file.write(wav_file + ' ' + emotion_label + ' ' + str(label_amount) + '\\n')\n"
   ]
  },
  {
   "cell_type": "code",
   "execution_count": 4,
   "metadata": {},
   "outputs": [
    {
     "name": "stdout",
     "output_type": "stream",
     "text": [
      "3356\n"
     ]
    }
   ],
   "source": [
    "file = open('label_counts.txt', 'r')\n",
    "counts = reduce(op.add, list(map(lambda x: int(x.split(' ')[2][:-1]), open('label_counts.txt'))))\n",
    "print(counts)"
   ]
  },
  {
   "cell_type": "markdown",
   "metadata": {},
   "source": [
    "## Save to a npz file"
   ]
  },
  {
   "cell_type": "code",
   "execution_count": 45,
   "metadata": {},
   "outputs": [],
   "source": [
    "spectrogram_path = os.path.abspath('./spectrograms/*.png')\n",
    "spectrogram_list = list(map(lambda x: x.split('\\n')[0].split(' '), open('sound_files.txt')))\n",
    "spectrogram_dict = {x[1]: x[2] for x in spectrogram_list}\n",
    "spectrogram_array = []\n",
    "label_array = []\n",
    "\n",
    "for spectrogram in glob.glob(spectrogram_path):\n",
    "    spectrogram_name = spectrogram.split('-')[0].split('.')[0].split('\\\\')[-1]\n",
    "    label_array.append(spectrogram_dict[spectrogram_name])\n",
    "    image = numpy.array(Image.open(spectrogram).convert('L'))\n",
    "    spectrogram_array.append(image)\n",
    "    \n",
    "\n",
    "numpy.savez('iemocap_linear_dataset.npz', spectrograms=numpy.asarray(spectrogram_array), labels=numpy.asarray(label_array))"
   ]
  },
  {
   "cell_type": "code",
   "execution_count": 55,
   "metadata": {},
   "outputs": [
    {
     "data": {
      "text/plain": [
       "(3557,)"
      ]
     },
     "execution_count": 55,
     "metadata": {},
     "output_type": "execute_result"
    }
   ],
   "source": [
    "dataset = numpy.load('iemocap_linear_dataset.npz')"
   ]
  }
 ],
 "metadata": {
  "kernelspec": {
   "display_name": "Python 3",
   "language": "python",
   "name": "python3"
  },
  "language_info": {
   "codemirror_mode": {
    "name": "ipython",
    "version": 3
   },
   "file_extension": ".py",
   "mimetype": "text/x-python",
   "name": "python",
   "nbconvert_exporter": "python",
   "pygments_lexer": "ipython3",
   "version": "3.6.4"
  }
 },
 "nbformat": 4,
 "nbformat_minor": 1
}
