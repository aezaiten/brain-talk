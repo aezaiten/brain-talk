{
 "cells": [
  {
   "cell_type": "code",
   "execution_count": 1,
   "metadata": {},
   "outputs": [],
   "source": [
    "from __future__ import division, print_function, absolute_import\n",
    "\n",
    "import tensorflow as tf\n",
    "import numpy as np\n",
    "import os\n",
    "import glob\n",
    "\n",
    "dataset_folder = os.path.abspath(\"./individual_npzs/{0}/*.npz\")"
   ]
  },
  {
   "cell_type": "markdown",
   "metadata": {},
   "source": [
    "## Parameters"
   ]
  },
  {
   "cell_type": "code",
   "execution_count": 2,
   "metadata": {},
   "outputs": [],
   "source": [
    "learning_rate = 0.01\n",
    "batch_size = 64\n",
    "dropout = 0.75\n",
    "max_pool = 2\n",
    "padding = 'same'\n",
    "strides = 1\n",
    "activation = 'relu'\n",
    "input_size = 60000\n",
    "output_size = 4\n",
    "epochs = 30\n",
    "\n",
    "validation_session = 4\n",
    "test_session = 5\n",
    "\n",
    "label_dictionary = {'neu': 0, 'hap': 1, 'sad': 2, 'ang': 3}"
   ]
  },
  {
   "cell_type": "markdown",
   "metadata": {},
   "source": [
    "## Conv params"
   ]
  },
  {
   "cell_type": "code",
   "execution_count": 19,
   "metadata": {},
   "outputs": [],
   "source": [
    "first_layer_params = {'filters': 16, 'kernel_size': [10, 15], 'strides': [1, 1, 1, 1]}\n",
    "second_layer_params =  {'filters': 24, 'kernel_size': [8, 10], 'strides': [1, 1, 1, 1]}\n",
    "third_layer_params =  {'filters': 32, 'kernel_size': [5, 8], 'strides': [1, 1, 1, 1]}"
   ]
  },
  {
   "cell_type": "markdown",
   "metadata": {},
   "source": [
    "## Load dataset: 3 sessions for training, 1 for validation, 1 for test"
   ]
  },
  {
   "cell_type": "code",
   "execution_count": 15,
   "metadata": {
    "scrolled": true
   },
   "outputs": [],
   "source": [
    "train_dataset = []\n",
    "validation_dataset = []\n",
    "test_dataset = []\n",
    "\n",
    "train_labels = []\n",
    "validation_labels = []\n",
    "test_labels = []\n",
    "\n",
    "session_string = 'session{0}'\n",
    "\n",
    "for i in range(1, 6):\n",
    "    formatted = session_string.format(i)\n",
    "    for spectrogram in glob.glob(dataset_folder.format(formatted)):\n",
    "        loaded_spec = np.load(spectrogram)\n",
    "        for x in loaded_spec['spectrograms']:\n",
    "            if i != validation_session and i != test_session:\n",
    "                train_dataset.append(x) \n",
    "            elif i == validation_session:\n",
    "                validation_dataset.append(x)\n",
    "            elif i == test_session:\n",
    "                test_dataset.append(x)\n",
    "        for x in loaded_spec['labels']:\n",
    "            if i != validation_session and i != test_session:\n",
    "                train_labels.append(x) \n",
    "            elif i == validation_session:\n",
    "                validation_labels.append(x)\n",
    "            elif i == test_session:\n",
    "                test_labels.append(x)\n",
    "        \n",
    "train_dataset = np.asarray(train_dataset)\n",
    "train_labels = np.asarray(train_labels)\n",
    "\n",
    "validation_dataset = np.asarray(validation_dataset)\n",
    "validation_labels = np.asarray(validation_labels)\n",
    "\n",
    "test_dataset = np.asarray(test_dataset)\n",
    "test_labels = np.asarray(test_labels)"
   ]
  },
  {
   "cell_type": "code",
   "execution_count": 16,
   "metadata": {},
   "outputs": [],
   "source": [
    "train_data = np.zeros([len(train_dataset), train_dataset[0].shape[0], train_dataset[0].shape[1]], dtype=np.uint8)\n",
    "for data in range(len(train_dataset)):\n",
    "    train_data[data,:,:] = train_dataset[data]\n",
    "    \n",
    "validation_data = np.zeros([len(validation_dataset), validation_dataset[0].shape[0], validation_dataset[0].shape[1]], dtype=np.uint8)\n",
    "for data in range(len(validation_dataset)):\n",
    "    train_data[data,:,:] = validation_dataset[data]\n",
    "    \n",
    "test_data = np.zeros([len(test_dataset), test_dataset[0].shape[0], test_dataset[0].shape[1]], dtype=np.uint8)\n",
    "for data in range(len(test_dataset)):\n",
    "    train_data[data,:,:] = test_dataset[data]"
   ]
  },
  {
   "cell_type": "markdown",
   "metadata": {},
   "source": [
    "## Convolutional"
   ]
  },
  {
   "cell_type": "code",
   "execution_count": 21,
   "metadata": {},
   "outputs": [],
   "source": [
    "def conv2d(to_process, weights, biases, strides=1):\n",
    "    conv_out = tf.nn.conv2d(to_process, weights, strides=[1, strides, strides, 1], padding='SAME')\n",
    "    bias_out = tf.nn.bias_add(conv_out, biases)\n",
    "    relu_out = tf.nn.relu(bias_out)\n",
    "    return relu_out\n",
    "\n",
    "def maxpool2d(to_pool, pool_size=2):\n",
    "    maxpool_out = tf.nn.max_pool(to_pool, ksize=[1, pool_size, pool_size, 1], strides=[1, pool_size, pool_size, 1], padding='SAME')\n",
    "    return maxpool_out\n",
    "\n",
    "def nn_pipeline(spectrogram, weights, biases):\n",
    "    \n",
    "    reshaped_input = tf.reshape(spectrogam, shape=[-1, 200, 300, 1])\n",
    "    \n",
    "    first_layer_out = conv2d(reshaped_input, weights['first_layer_weights'], biases['first_layer_biases'])\n",
    "    first_maxpool_out = maxpool2d(first_layer_out, k=2)\n",
    "    \n",
    "    second_layer_out = conv2d(first_maxpool_out, weights['second_layer_weights'], biases['second_layer_biases'])\n",
    "    second_maxpool_out = maxpool2d(second_layer_out, k=2)\n",
    "    \n",
    "    third_layer_out = conv2d(second_maxpool_out, weights['third_layer_weights'], biases['third_layer_biases'])\n",
    "    first_maxpool_out = maxpool2d(first_layer_out, k=2)"
   ]
  },
  {
   "cell_type": "code",
   "execution_count": 20,
   "metadata": {},
   "outputs": [],
   "source": [
    "def convnet(x_data, n_classes, dropout, reuse, is_training):\n",
    "    with tf.variable_scope('ConvNet', reuse=reuse):\n",
    "        x = x_data\n",
    "        \n",
    "        x = tf.reshape(x, shape=[-1, 200, 300, 1])\n",
    "        \n",
    "        first_layer_out_1 = tf.layers.conv2d(x, first_layer_params['filters'], \n",
    "                                       first_layer_params['kernel_size'], \n",
    "                                       first_layer_params['strides'], activation=tf.nn.relu)\n",
    "        first_layer_out_2 = tf.layers.max_pooling2d(first_layer_out_1, 2, 2)\n",
    "        \n",
    "        second_layer_out_1 = tf.layers.conv2d(first_layer_out_2, second_layer_params['filters'], \n",
    "                                       second_layer_params['kernel_size'], \n",
    "                                       second_layer_params['strides'], activation=tf.nn.relu)\n",
    "        second_layer_out_2 = tf.layers.max_pooling2d(second_layer_out_1, 2, 2)\n",
    "        \n",
    "        third_layer_out_1 = tf.layers.conv2d(second_layer_out_2, third_layer_params['filters'], \n",
    "                                       third_layer_params['kernel_size'], \n",
    "                                       third_layer_params['strides'], activation=tf.nn.relu)\n",
    "        third_layer_out_2 = tf.layers.max_pooling2d(third_layer_out_1, 2, 2)\n",
    "        \n",
    "        flatten_out = tf.contrib.layers.flatten(third_layer_out_2)\n",
    "\n",
    "        dense_out = tf.layers.dense(flatten_out, 32 * flatten_out.shape[0] * flatten_out.shape[1])\n",
    "        dropout_out = tf.layers.dropout(dense_out, rate=dropout, training=is_training)\n",
    "\n",
    "        prediction = tf.layers.dense(dropout_out, output_size)\n",
    "    return prediction"
   ]
  },
  {
   "cell_type": "code",
   "execution_count": null,
   "metadata": {},
   "outputs": [],
   "source": []
  }
 ],
 "metadata": {
  "kernelspec": {
   "display_name": "Python 3",
   "language": "python",
   "name": "python3"
  },
  "language_info": {
   "codemirror_mode": {
    "name": "ipython",
    "version": 3
   },
   "file_extension": ".py",
   "mimetype": "text/x-python",
   "name": "python",
   "nbconvert_exporter": "python",
   "pygments_lexer": "ipython3",
   "version": "3.6.4"
  }
 },
 "nbformat": 4,
 "nbformat_minor": 1
}
